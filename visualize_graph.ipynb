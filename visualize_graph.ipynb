{
 "cells": [
  {
   "cell_type": "markdown",
   "metadata": {},
   "source": [
    "# RAG Workflow Graph Visualization\n",
    "\n",
    "This notebook visualizes the LangGraph workflow used in the Cybersecurity RAG Agent."
   ]
  },
  {
   "cell_type": "markdown",
   "metadata": {},
   "source": [
    "## Setup and Imports"
   ]
  },
  {
   "cell_type": "code",
   "execution_count": null,
   "metadata": {},
   "outputs": [],
   "source": [
    "import sys\n",
    "import os\n",
    "\n",
    "# Add src directory to Python path\n",
    "sys.path.insert(0, os.path.join(os.getcwd(), 'src'))\n",
    "\n",
    "# Change working directory to src for relative imports\n",
    "original_cwd = os.getcwd()\n",
    "os.chdir('src')"
   ]
  },
  {
   "cell_type": "code",
   "execution_count": null,
   "metadata": {},
   "outputs": [],
   "source": [
    "from IPython.display import Image, display\n",
    "from main import setup_rag_system\n",
    "import warnings\n",
    "warnings.filterwarnings('ignore')"
   ]
  },
  {
   "cell_type": "markdown",
   "metadata": {},
   "source": [
    "## Initialize RAG System\n",
    "\n",
    "This will load the models, documents, and create the workflow graph."
   ]
  },
  {
   "cell_type": "code",
   "execution_count": null,
   "metadata": {},
   "outputs": [],
   "source": [
    "print(\"🔄 Initializing RAG system...\")\n",
    "print(\"This may take a few minutes on first run...\")\n",
    "\n",
    "# Initialize the RAG system\n",
    "app = setup_rag_system()\n",
    "\n",
    "print(\"✅ RAG system initialized successfully!\")"
   ]
  },
  {
   "cell_type": "markdown",
   "metadata": {},
   "source": [
    "## Visualize Workflow Graph\n",
    "\n",
    "The graph shows the flow of the RAG system:\n",
    "- **Question processing**\n",
    "- **Document retrieval** \n",
    "- **Relevance grading**\n",
    "- **Answer generation**\n",
    "- **Decision routing**"
   ]
  },
  {
   "cell_type": "code",
   "execution_count": null,
   "metadata": {},
   "outputs": [],
   "source": [
    "# Display the workflow graph with detailed view\n",
    "print(\"📊 RAG Workflow Graph:\")\n",
    "display(Image(app.get_graph(xray=True).draw_mermaid_png()))"
   ]
  },
  {
   "cell_type": "markdown",
   "metadata": {},
   "source": [
    "## Graph Components Explanation\n",
    "\n",
    "### Nodes:\n",
    "- **🔍 Retrieve**: Fetches relevant documents from vector database\n",
    "- **📋 Grade Documents**: Evaluates document relevance to the question\n",
    "- **💭 Generate**: Creates answers using retrieved context\n",
    "- **🔄 Transform Query**: Rewrites questions for better retrieval\n",
    "\n",
    "### Workflow:\n",
    "1. **Start** → Question received\n",
    "2. **Retrieve** → Search vector database for relevant documents\n",
    "3. **Grade** → Evaluate if documents are relevant\n",
    "4. **Decision** → Route based on document quality\n",
    "5. **Generate** → Create final answer or transform query\n",
    "6. **End** → Return response to user"
   ]
  },
  {
   "cell_type": "markdown",
   "metadata": {},
   "source": [
    "## Test the System\n",
    "\n",
    "Let's test the RAG system with a sample question to see the workflow in action."
   ]
  },
  {
   "cell_type": "code",
   "execution_count": null,
   "metadata": {},
   "outputs": [],
   "source": [
    "# Test question\n",
    "test_question = \"What are the core functions of the NIST Cybersecurity Framework?\"\n",
    "\n",
    "print(f\"❓ Question: {test_question}\")\n",
    "print(\"\\n🔄 Processing...\")\n",
    "\n",
    "# Invoke the RAG system\n",
    "result = app.invoke({\"question\": test_question})\n",
    "\n",
    "print(\"\\n📝 Answer:\")\n",
    "print(result.get('generation', 'No answer generated'))\n",
    "\n",
    "print(f\"\\n📚 Sources found: {len(result.get('documents', []))} documents\")"
   ]
  },
  {
   "cell_type": "markdown",
   "metadata": {},
   "source": [
    "## Graph State Information\n",
    "\n",
    "The workflow uses a state dictionary to pass information between nodes:"
   ]
  },
  {
   "cell_type": "code",
   "execution_count": null,
   "metadata": {},
   "outputs": [],
   "source": [
    "# Display the state keys used in the workflow\n",
    "print(\"🔧 Workflow State Keys:\")\n",
    "state_keys = [\n",
    "    \"question\",      # Original user question\n",
    "    \"generation\",    # Generated answer\n",
    "    \"documents\",     # Retrieved documents\n",
    "    \"web_search\"     # Web search flag (if needed)\n",
    "]\n",
    "\n",
    "for key in state_keys:\n",
    "    print(f\"  • {key}: Used for passing data between workflow nodes\")"
   ]
  },
  {
   "cell_type": "code",
   "execution_count": null,
   "metadata": {},
   "outputs": [],
   "source": [
    "# Restore original working directory\n",
    "os.chdir(original_cwd)\n",
    "print(\"✅ Notebook execution complete!\")"
   ]
  }
 ],
 "metadata": {
  "kernelspec": {
   "display_name": "Python 3",
   "language": "python",
   "name": "python3"
  },
  "language_info": {
   "codemirror_mode": {
    "name": "ipython",
    "version": 3
   },
   "file_extension": ".py",
   "name": "python",
   "nbconvert_exporter": "python",
   "pygments_lexer": "ipython3",
   "version": "3.8.0"
  }
 },
 "nbformat": 4,
 "nbformat_minor": 4
}